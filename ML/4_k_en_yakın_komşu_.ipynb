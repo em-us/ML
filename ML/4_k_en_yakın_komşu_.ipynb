{
  "cells": [
    {
      "cell_type": "markdown",
      "metadata": {
        "id": "cPKosxb5fiKe"
      },
      "source": [
        "# k-EN YAKIN KOMŞU (k-NN) ALGORİTMASI\n",
        "\n",
        "## Giriş\n",
        "k-En Yakın Komşu (k-NN) algoritması, hem sınıflandırma hem de regresyon problemlerinde kullanılabilen, denetimli öğrenmeye dayalı bir makine öğrenmesi algoritmasıdır. Bu algoritma, bir veri noktasının k komşusunun sınıflandırma etiketlerine bakarak tahmin yapar.\n",
        "\n",
        "**Algoritmanın Temel Adımları:**\n",
        "1. K komşu sayısını (k) belirleyin.\n",
        "2. Sınıflandırılacak yeni veri noktasını eğitim verilerine göre konumlandırın.\n",
        "3. Eğitim verileri arasından yeni veri noktasına en yakın k komşuyu bulun.\n",
        "4. k komşunun etiketlerini kontrol edin ve en sık görülen etiketi yeni veri noktasına atayın (sınıflandırma).\n",
        "5. Regresyon durumunda ise, k komşunun etiketlerinin ortalamasını alın.\n",
        "\n",
        "**Avantajları:**\n",
        "- Basit ve anlaşılır bir algoritmadır.\n",
        "- Parametrik olmayan bir yöntemdir, yani veri dağılımına dair varsayımlar yapmaz.\n",
        "\n",
        "**Dezavantajları:**\n",
        "- Büyük veri kümelerinde hesaplama maliyeti yüksek olabilir.\n",
        "- Özelliklerin ölçeklendirilmesi gereklidir, aksi halde yüksek değerli özellikler algoritmayı yanıltabilir.\n"
      ],
      "id": "cPKosxb5fiKe"
    },
    {
      "cell_type": "markdown",
      "metadata": {
        "id": "0rmcAJhqfiKg"
      },
      "source": [
        "## Gerekli Kütüphanelerin Yüklenmesi"
      ],
      "id": "0rmcAJhqfiKg"
    },
    {
      "cell_type": "code",
      "execution_count": 1,
      "metadata": {
        "id": "-JlL2EbSfiKg"
      },
      "outputs": [],
      "source": [
        "import numpy as np\n",
        "import pandas as pd\n",
        "import matplotlib.pyplot as plt\n",
        "from sklearn.datasets import load_iris\n",
        "from sklearn.model_selection import train_test_split\n",
        "from sklearn.preprocessing import StandardScaler\n",
        "from sklearn.neighbors import KNeighborsClassifier\n",
        "from sklearn.metrics import accuracy_score, classification_report, confusion_matrix"
      ],
      "id": "-JlL2EbSfiKg"
    },
    {
      "cell_type": "markdown",
      "metadata": {
        "id": "7YaffmUQfiKi"
      },
      "source": [
        "## Veri Setinin Yüklenmesi ve Hazırlanması\n",
        "Iris veri setini kullanacağız. Bu veri seti, çiçeklerin taç yaprağı ve çanak yaprağı uzunluklarına göre türlerini sınıflandırmamıza olanak tanır."
      ],
      "id": "7YaffmUQfiKi"
    },
    {
      "cell_type": "code",
      "execution_count": 2,
      "metadata": {
        "colab": {
          "base_uri": "https://localhost:8080/"
        },
        "id": "WPJYtUcJfiKi",
        "outputId": "2232e8fc-263b-49cf-f9ec-49f6fa0f03aa"
      },
      "outputs": [
        {
          "output_type": "stream",
          "name": "stdout",
          "text": [
            "Özellik İsimleri:  ['sepal length (cm)', 'sepal width (cm)', 'petal length (cm)', 'petal width (cm)']\n",
            "Sınıf İsimleri:  ['setosa' 'versicolor' 'virginica']\n",
            "\n",
            "Veri Örnekleri:\n",
            " [[5.1 3.5 1.4 0.2]\n",
            " [4.9 3.  1.4 0.2]\n",
            " [4.7 3.2 1.3 0.2]\n",
            " [4.6 3.1 1.5 0.2]\n",
            " [5.  3.6 1.4 0.2]]\n",
            "\n",
            "Sınıf Örnekleri:\n",
            " [0 0 0 0 0]\n"
          ]
        }
      ],
      "source": [
        "# Veri setini yükleyin\n",
        "iris = load_iris()\n",
        "X = iris.data\n",
        "y = iris.target\n",
        "\n",
        "# Veri hakkında bilgi\n",
        "print(\"Özellik İsimleri: \", iris.feature_names)\n",
        "print(\"Sınıf İsimleri: \", iris.target_names)\n",
        "print(\"\\nVeri Örnekleri:\\n\", X[:5])\n",
        "print(\"\\nSınıf Örnekleri:\\n\", y[:5])"
      ],
      "id": "WPJYtUcJfiKi"
    },
    {
      "cell_type": "markdown",
      "metadata": {
        "id": "NsH2_V68fiKj"
      },
      "source": [
        "Veriyi eğitim ve test olarak ayırın"
      ],
      "id": "NsH2_V68fiKj"
    },
    {
      "cell_type": "code",
      "execution_count": 3,
      "metadata": {
        "id": "oWQsgRy9fiKj"
      },
      "outputs": [],
      "source": [
        "# Veriyi eğitim ve test olarak ayırın\n",
        "X_train, X_test, y_train, y_test = train_test_split(X, y, test_size=0.2, random_state=42)\n",
        "\n",
        "# Özellikleri ölçeklendirin\n",
        "scaler = StandardScaler()\n",
        "X_train = scaler.fit_transform(X_train)\n",
        "X_test = scaler.transform(X_test)"
      ],
      "id": "oWQsgRy9fiKj"
    },
    {
      "cell_type": "markdown",
      "metadata": {
        "id": "cDSvcpJZfiKj"
      },
      "source": [
        "## k-NN Algoritmasının Uygulanması\n",
        "k=3 için k-NN modelini oluşturacağız ve test verisi üzerinde doğruluğunu ölçeceğiz."
      ],
      "id": "cDSvcpJZfiKj"
    },
    {
      "cell_type": "code",
      "execution_count": 4,
      "metadata": {
        "colab": {
          "base_uri": "https://localhost:8080/"
        },
        "id": "_tq8QonWfiKj",
        "outputId": "b305a8b4-1ef5-4f58-8523-603f5a9c7450"
      },
      "outputs": [
        {
          "output_type": "stream",
          "name": "stdout",
          "text": [
            "\n",
            "Model Doğruluğu: 1.0\n",
            "\n",
            "Sınıflandırma Raporu:\n",
            "              precision    recall  f1-score   support\n",
            "\n",
            "           0       1.00      1.00      1.00        10\n",
            "           1       1.00      1.00      1.00         9\n",
            "           2       1.00      1.00      1.00        11\n",
            "\n",
            "    accuracy                           1.00        30\n",
            "   macro avg       1.00      1.00      1.00        30\n",
            "weighted avg       1.00      1.00      1.00        30\n",
            "\n",
            "\n",
            "Karışıklık Matrisi:\n",
            "[[10  0  0]\n",
            " [ 0  9  0]\n",
            " [ 0  0 11]]\n"
          ]
        }
      ],
      "source": [
        "# k-NN modelini oluşturun\n",
        "knn = KNeighborsClassifier(n_neighbors=3)\n",
        "knn.fit(X_train, y_train)\n",
        "\n",
        "# Test verisi üzerinde tahmin yapın\n",
        "y_pred = knn.predict(X_test)\n",
        "\n",
        "# Modelin doğruluğunu hesaplayın\n",
        "accuracy = accuracy_score(y_test, y_pred)\n",
        "print(f\"\\nModel Doğruluğu: {accuracy}\")\n",
        "\n",
        "# Sınıflandırma raporu ve karışıklık matrisi\n",
        "print(\"\\nSınıflandırma Raporu:\")\n",
        "print(classification_report(y_test, y_pred))\n",
        "\n",
        "print(\"\\nKarışıklık Matrisi:\")\n",
        "print(confusion_matrix(y_test, y_pred))"
      ],
      "id": "_tq8QonWfiKj"
    },
    {
      "cell_type": "markdown",
      "metadata": {
        "id": "Q3njOuqWfiKk"
      },
      "source": [
        "## Model Performansını Değerlendirme\n",
        "Doğruluk, k-NN algoritmasının performansını değerlendirmek için kullanılan yaygın bir metriktir. Ayrıca karışıklık matrisi ve sınıflandırma raporu, modelin hangi sınıflarda daha iyi veya kötü performans gösterdiğini anlamamıza yardımcı olur."
      ],
      "id": "Q3njOuqWfiKk"
    },
    {
      "cell_type": "markdown",
      "metadata": {
        "id": "m8uOOsfwfiKk"
      },
      "source": [
        "## En İyi k Değerinin Belirlenmesi\n",
        "Farklı k değerleri için model performansını karşılaştırarak en iyi k değerini belirleyebiliriz."
      ],
      "id": "m8uOOsfwfiKk"
    },
    {
      "cell_type": "code",
      "execution_count": 5,
      "metadata": {
        "colab": {
          "base_uri": "https://localhost:8080/",
          "height": 564
        },
        "id": "Elmi4RjyfiKk",
        "outputId": "40ab40be-e63b-481b-a585-29670bdc3cca"
      },
      "outputs": [
        {
          "output_type": "display_data",
          "data": {
            "text/plain": [
              "<Figure size 1000x600 with 1 Axes>"
            ],
            "image/png": "[encoded data removed]"
          },
          "metadata": {}
        }
      ],
      "source": [
        "# Farklı k değerlerini deneme\n",
        "k_values = range(1, 26)\n",
        "accuracies = []\n",
        "\n",
        "for k in k_values:\n",
        "    knn = KNeighborsClassifier(n_neighbors=k)\n",
        "    knn.fit(X_train, y_train)\n",
        "    y_pred = knn.predict(X_test)\n",
        "    accuracies.append(accuracy_score(y_test, y_pred))\n",
        "\n",
        "# Performansı görselleştirme\n",
        "plt.figure(figsize=(10, 6))\n",
        "plt.plot(k_values, accuracies, marker='o')\n",
        "plt.title('Farklı k Değerlerine Göre Model Doğruluğu')\n",
        "plt.xlabel('k Değeri')\n",
        "plt.ylabel('Doğruluk')\n",
        "plt.xticks(k_values)\n",
        "plt.grid()\n",
        "plt.show()"
      ],
      "id": "Elmi4RjyfiKk"
    },
    {
      "cell_type": "markdown",
      "metadata": {
        "id": "3tR_tflTfiKl"
      },
      "source": [
        "## Sonuç\n",
        "Bu notebook'ta k-NN algoritmasının temel prensiplerini ve Iris veri seti üzerinde nasıl uygulandığını öğrendik. Ayrıca farklı k değerleri için model performansını karşılaştırarak en iyi k değerini belirledik. k-NN algoritması, basitliği ve sezgisel doğası ile birçok uygulamada başarılı sonuçlar verebilir. Ancak, özelliklerin ölçeklendirilmesi ve uygun k değerinin seçimi gibi önemli hususlara dikkat edilmelidir."
      ],
      "id": "3tR_tflTfiKl"
    }
  ],
  "metadata": {
    "kernelspec": {
      "display_name": "Python 3",
      "language": "python",
      "name": "python3"
    },
    "language_info": {
      "codemirror_mode": {
        "name": "ipython",
        "version": 3
      },
      "file_extension": ".py",
      "mimetype": "text/x-python",
      "name": "python",
      "nbconvert_exporter": "python",
      "pygments_lexer": "ipython3",
      "version": "3.8.10"
    },
    "colab": {
      "provenance": []
    }
  },
  "nbformat": 4,
  "nbformat_minor": 5
}