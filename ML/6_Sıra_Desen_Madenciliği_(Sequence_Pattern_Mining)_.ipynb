{
  "cells": [
    {
      "cell_type": "markdown",
      "metadata": {
        "id": "vW0ClgDUZToC"
      },
      "source": [
        "# Sıra Desen Madenciliği (Sequence Pattern Mining)\n",
        "\n",
        "## Giriş\n",
        "\n",
        "Sıra Desen Madenciliği, veri madenciliği ve makine öğrenmesi alanlarında önemli bir yere sahiptir. Bu algoritma, sıralı verilerde tekrar eden desenleri bulmaya çalışır. Bu tür veriler zaman serileri, metin verileri veya herhangi bir sıralı olaylar olabilir.\n",
        "\n",
        "## Uygulama Alanları\n",
        "\n",
        "- Pazarlama ve Müşteri Analizi: Müşteri alışveriş alışkanlıklarının analizi\n",
        "- Biyoinformatik: DNA dizilimlerinin analizi\n",
        "- Web Kullanıcı Davranışı: Web sayfası ziyaret sıralamalarının analizi\n",
        "\n",
        "## Algoritmalar\n",
        "\n",
        "Sıra desen madenciliği algoritmalarından bazıları AprioriAll, PrefixSpan, SPADE ve GSP algoritmalarıdır. Bu notta bu algoritmalara dair örnek kodlar yer almaktadır.\n"
      ],
      "id": "vW0ClgDUZToC"
    },
    {
      "cell_type": "markdown",
      "metadata": {
        "id": "SIqb_wv_ZToE"
      },
      "source": [
        "## Örnek 1: PrefixSpan Algoritması\n",
        "PrefixSpan (Prefix-projected Sequential pattern mining) sık kullanılan bir sıralı desen madenciliği algoritmasıdır."
      ],
      "id": "SIqb_wv_ZToE"
    },
    {
      "cell_type": "code",
      "execution_count": 1,
      "metadata": {
        "colab": {
          "base_uri": "https://localhost:8080/"
        },
        "id": "Hkg8IWxyZToE",
        "outputId": "442fd6a9-8f71-4b3f-dd65-47b795547272"
      },
      "outputs": [
        {
          "output_type": "stream",
          "name": "stdout",
          "text": [
            "Sık Desenler:\n",
            "(['A'], 5)\n",
            "(['A', 'B'], 3)\n",
            "(['A', 'C'], 2)\n",
            "(['A', 'D'], 2)\n",
            "(['C'], 3)\n",
            "(['C', 'A'], 2)\n",
            "(['C', 'C'], 2)\n",
            "(['B'], 5)\n",
            "(['B', 'A'], 2)\n",
            "(['D'], 2)\n"
          ]
        }
      ],
      "source": [
        "import itertools\n",
        "from collections import defaultdict\n",
        "\n",
        "def prefixspan(sequence, min_support):\n",
        "    def frequent_items(sequences, min_support):\n",
        "        items = defaultdict(int)\n",
        "        for seq in sequences:\n",
        "            for item in set(itertools.chain(*seq)):\n",
        "                items[item] += 1\n",
        "        return {item: count for item, count in items.items() if count >= min_support}\n",
        "\n",
        "    def project_database(sequences, prefix):\n",
        "        projected_db = []\n",
        "        for seq in sequences:\n",
        "            temp_seq = []\n",
        "            for itemset in seq:\n",
        "                if not temp_seq and set(prefix).issubset(itemset):\n",
        "                    temp_seq = seq[seq.index(itemset)+1:]\n",
        "                    break\n",
        "            if temp_seq:\n",
        "                projected_db.append(temp_seq)\n",
        "        return projected_db\n",
        "\n",
        "    def recursive_prefixspan(prefix, sequences, min_support):\n",
        "        freq_patterns = []\n",
        "        freq_items = frequent_items(sequences, min_support)\n",
        "        for item, count in freq_items.items():\n",
        "            new_prefix = prefix + [item]\n",
        "            freq_patterns.append((new_prefix, count))\n",
        "            projected_db = project_database(sequences, new_prefix)\n",
        "            freq_patterns.extend(recursive_prefixspan(new_prefix, projected_db, min_support))\n",
        "        return freq_patterns\n",
        "\n",
        "    return recursive_prefixspan([], sequence, min_support)\n",
        "\n",
        "# Örnek veri seti\n",
        "sequences = [\n",
        "    [['A'], ['B', 'C'], ['A', 'C']],\n",
        "    [['A'], ['C'], ['B', 'C']],\n",
        "    [['A', 'B'], ['D']],\n",
        "    [['B', 'C'], ['A']],\n",
        "    [['A'], ['B', 'D']],\n",
        "]\n",
        "\n",
        "# Minimum destek eşiği\n",
        "min_support = 2\n",
        "\n",
        "# Algoritmayı çalıştırma\n",
        "frequent_patterns = prefixspan(sequences, min_support)\n",
        "\n",
        "# Sonuçları yazdırma\n",
        "print(\"Sık Desenler:\")\n",
        "for pattern in frequent_patterns:\n",
        "    print(pattern)"
      ],
      "id": "Hkg8IWxyZToE"
    },
    {
      "cell_type": "markdown",
      "metadata": {
        "id": "zUXEgsN5ZToF"
      },
      "source": [
        "## Örnek 2: SPADE Algoritması\n",
        "SPADE (Sequential Pattern Discovery using Equivalence classes) algoritması bir başka sıralı desen madenciliği algoritmasıdır."
      ],
      "id": "zUXEgsN5ZToF"
    },
    {
      "cell_type": "code",
      "execution_count": 2,
      "metadata": {
        "colab": {
          "base_uri": "https://localhost:8080/"
        },
        "id": "Ee7uxMfoZToG",
        "outputId": "04dfcb51-19d3-4b1a-8087-c114fb4dca38"
      },
      "outputs": [
        {
          "output_type": "stream",
          "name": "stdout",
          "text": [
            "Sık Desenler:\n",
            "(['A'], 5)\n",
            "(['A', 'B'], 3)\n",
            "(['A', 'C'], 2)\n",
            "(['A', 'D'], 2)\n",
            "(['C'], 3)\n",
            "(['C', 'A'], 2)\n",
            "(['C', 'C'], 2)\n",
            "(['B'], 5)\n",
            "(['B', 'A'], 2)\n",
            "(['D'], 2)\n"
          ]
        }
      ],
      "source": [
        "import itertools\n",
        "from collections import defaultdict\n",
        "\n",
        "def spade(sequences, min_support):\n",
        "    def frequent_items(sequences, min_support):\n",
        "        items = defaultdict(int)\n",
        "        for seq in sequences:\n",
        "            for item in set(itertools.chain(*seq)):\n",
        "                items[item] += 1\n",
        "        return {item: count for item, count in items.items() if count >= min_support}\n",
        "\n",
        "    def project_database(sequences, prefix):\n",
        "        projected_db = []\n",
        "        for seq in sequences:\n",
        "            temp_seq = []\n",
        "            for itemset in seq:\n",
        "                if not temp_seq and set(prefix).issubset(itemset):\n",
        "                    temp_seq = seq[seq.index(itemset)+1:]\n",
        "                    break\n",
        "            if temp_seq:\n",
        "                projected_db.append(temp_seq)\n",
        "        return projected_db\n",
        "\n",
        "    def recursive_spade(prefix, sequences, min_support):\n",
        "        freq_patterns = []\n",
        "        freq_items = frequent_items(sequences, min_support)\n",
        "        for item, count in freq_items.items():\n",
        "            new_prefix = prefix + [item]\n",
        "            freq_patterns.append((new_prefix, count))\n",
        "            projected_db = project_database(sequences, new_prefix)\n",
        "            freq_patterns.extend(recursive_spade(new_prefix, projected_db, min_support))\n",
        "        return freq_patterns\n",
        "\n",
        "    return recursive_spade([], sequences, min_support)\n",
        "\n",
        "# Örnek veri seti\n",
        "sequences = [\n",
        "    [['A'], ['B', 'C'], ['A', 'C']],\n",
        "    [['A'], ['C'], ['B', 'C']],\n",
        "    [['A', 'B'], ['D']],\n",
        "    [['B', 'C'], ['A']],\n",
        "    [['A'], ['B', 'D']],\n",
        "]\n",
        "\n",
        "# Minimum destek eşiği\n",
        "min_support = 2\n",
        "\n",
        "# Algoritmayı çalıştırma\n",
        "frequent_patterns = spade(sequences, min_support)\n",
        "\n",
        "# Sonuçları yazdırma\n",
        "print(\"Sık Desenler:\")\n",
        "for pattern in frequent_patterns:\n",
        "    print(pattern)"
      ],
      "id": "Ee7uxMfoZToG"
    },
    {
      "cell_type": "markdown",
      "metadata": {
        "id": "97RVSPBLZToG"
      },
      "source": [
        "## Örnek 3: GSP Algoritması\n",
        "GSP (Generalized Sequential Pattern) algoritması, sıralı desenleri bulmak için kullanılan başka bir algoritmadır."
      ],
      "id": "97RVSPBLZToG"
    },
    {
      "cell_type": "code",
      "execution_count": 3,
      "metadata": {
        "colab": {
          "base_uri": "https://localhost:8080/"
        },
        "id": "yKVLbL__ZToG",
        "outputId": "90e038df-09ef-457e-f067-6197a51537ef"
      },
      "outputs": [
        {
          "output_type": "stream",
          "name": "stdout",
          "text": [
            "Sık Desenler:\n",
            "['A']\n",
            "['C']\n",
            "['B']\n",
            "['D']\n",
            "['A', 'C']\n",
            "['A', 'B']\n",
            "['A', 'D']\n"
          ]
        }
      ],
      "source": [
        "import itertools\n",
        "from collections import defaultdict\n",
        "\n",
        "def gsp(sequences, min_support):\n",
        "    def generate_candidates(frequent_patterns, k):\n",
        "        candidates = []\n",
        "        for i in range(len(frequent_patterns)):\n",
        "            for j in range(i + 1, len(frequent_patterns)):\n",
        "                seq1, seq2 = frequent_patterns[i], frequent_patterns[j]\n",
        "                if seq1[:-1] == seq2[:-1]:\n",
        "                    candidate = seq1 + [seq2[-1]]\n",
        "                    if len(candidate) == k:\n",
        "                        candidates.append(candidate)\n",
        "        return candidates\n",
        "\n",
        "    def count_support(sequences, candidates):\n",
        "        candidate_counts = defaultdict(int)\n",
        "        for seq in sequences:\n",
        "            for candidate in candidates:\n",
        "                if is_subsequence(candidate, seq):\n",
        "                    candidate_counts[tuple(candidate)] += 1\n",
        "        return candidate_counts\n",
        "\n",
        "    def is_subsequence(subseq, seq):\n",
        "        it = iter(seq)\n",
        "        return all(any(set(item).issubset(set(s)) for s in it) for item in subseq)\n",
        "\n",
        "    def filter_candidates(candidate_counts, min_support):\n",
        "        return [list(candidate) for candidate, count in candidate_counts.items() if count >= min_support]\n",
        "\n",
        "    # Başlangıçta 1-öğe sıralı desenlerini bulma\n",
        "    freq_patterns = [[item] for item, count in frequent_items(sequences).items() if count >= min_support]\n",
        "    all_freq_patterns = []\n",
        "\n",
        "    k = 2\n",
        "    while freq_patterns:\n",
        "        all_freq_patterns.extend(freq_patterns)\n",
        "        candidates = generate_candidates(freq_patterns, k)\n",
        "        candidate_counts = count_support(sequences, candidates)\n",
        "        freq_patterns = filter_candidates(candidate_counts, min_support)\n",
        "        k += 1\n",
        "\n",
        "    return all_freq_patterns\n",
        "\n",
        "def frequent_items(sequences):\n",
        "    item_counts = defaultdict(int)\n",
        "    for seq in sequences:\n",
        "        for item in set(itertools.chain(*seq)):\n",
        "            item_counts[item] += 1\n",
        "    return item_counts\n",
        "\n",
        "# Örnek veri seti\n",
        "sequences = [\n",
        "    [['A'], ['B', 'C'], ['A', 'C']],\n",
        "    [['A'], ['C'], ['B', 'C']],\n",
        "    [['A', 'B'], ['D']],\n",
        "    [['B', 'C'], ['A']],\n",
        "    [['A'], ['B', 'D']],\n",
        "]\n",
        "\n",
        "# Minimum destek eşiği\n",
        "min_support = 2\n",
        "\n",
        "# Algoritmayı çalıştırma\n",
        "frequent_patterns = gsp(sequences, min_support)\n",
        "\n",
        "# Sonuçları yazdırma\n",
        "print(\"Sık Desenler:\")\n",
        "for pattern in frequent_patterns:\n",
        "    print(pattern)"
      ],
      "id": "yKVLbL__ZToG"
    }
  ],
  "metadata": {
    "kernelspec": {
      "display_name": "Python 3",
      "language": "python",
      "name": "python3"
    },
    "language_info": {
      "codemirror_mode": {
        "name": "ipython",
        "version": 3
      },
      "file_extension": ".py",
      "mimetype": "text/x-python",
      "name": "python",
      "nbconvert_exporter": "python",
      "pygments_lexer": "ipython3",
      "version": "3.8.5"
    },
    "colab": {
      "provenance": []
    }
  },
  "nbformat": 4,
  "nbformat_minor": 5
}